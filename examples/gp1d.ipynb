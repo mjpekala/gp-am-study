{
 "cells": [
  {
   "cell_type": "markdown",
   "metadata": {},
   "source": [
    "# Gaussian Processes in 1 Dimension\n",
    "\n"
   ]
  },
  {
   "cell_type": "code",
   "execution_count": 16,
   "metadata": {
    "collapsed": false
   },
   "outputs": [
    {
     "name": "stdout",
     "output_type": "stream",
     "text": [
      "The autoreload extension is already loaded. To reload it, use:\n",
      "  %reload_ext autoreload\n"
     ]
    }
   ],
   "source": [
    "%matplotlib inline \n",
    "%load_ext autoreload\n",
    "%autoreload 2\n",
    "\n",
    "__author__ = \"mjp\"\n",
    "__version__ = \"0.0.1\"\n",
    "__status__ = \"development\"\n",
    "\n",
    "__copyright__ = \"Copyright 2016, JHU/APL\"\n",
    "__license__ = \"Apache, Version 2.0\"\n",
    "\n",
    "import os, csv\n",
    "\n",
    "import numpy as np\n",
    "import pylab as plt\n",
    "from mpl_toolkits.mplot3d import axes3d, art3d\n",
    "\n",
    "from helpers import *\n",
    "\n",
    "import GPy"
   ]
  },
  {
   "cell_type": "code",
   "execution_count": 12,
   "metadata": {
    "collapsed": true
   },
   "outputs": [],
   "source": [
    "# Helper functions\n",
    "\n",
    "def vec_to_mat(v):\n",
    "    \"\"\"Reshapes a vector of dimension (n,) to have dimension (n,1).\n",
    "    This is because some GPy methods check ndim(v)==2.\"\"\"\n",
    "    return v if v.ndim >= 2 else v[:,np.newaxis]\n",
    "\n",
    "\n",
    "def scale_input(X):\n",
    "    \"Maps values to unit hypercube.\"\n",
    "    xMin = np.min(X, axis=0)    \n",
    "    xMax = np.max(X, axis=0)\n",
    "    return (X - xMin) / (xMax - xMin)\n",
    "\n",
    "\n",
    "def normalize_obs(Y, mu=None, sigma=None):\n",
    "    \"\"\" Rescales observations to have zero mean and unit variance.\n",
    "    \"\"\"\n",
    "    if not mu:\n",
    "        mu = np.mean(Y, axis=0)\n",
    "    if not sigma:\n",
    "        sigma = np.std(Y, axis=0)\n",
    "    Z = (Y - mu) / sigma\n",
    "    return Z, mu, sigma"
   ]
  },
  {
   "cell_type": "code",
   "execution_count": 13,
   "metadata": {
    "collapsed": false
   },
   "outputs": [
    {
     "name": "stdout",
     "output_type": "stream",
     "text": [
      "Rotating observed pin locations about z axis\n"
     ]
    }
   ],
   "source": [
    "inDir = os.path.join('..', 'data')\n",
    "inFile = os.path.join(inDir, 'NIST_randomized_metal_no1.csv')\n",
    "Z = load_data(inFile)\n",
    "\n",
    "# extract data of interest\n",
    "# The measured variables wear hats.\n",
    "x = Z[:,0];  xHat = Z[:,1]\n",
    "y = Z[:,2];  yHat = Z[:,3]\n",
    "d = Z[:,4];  dHat = Z[:,5]\n",
    "z = Z[:,6];  zHat = Z[:,7]\n",
    "\n",
    "r, theta = cart2polar(x,y)\n",
    "rHat, thetaHat = cart2polar(xHat, yHat)\n",
    "\n",
    "# Apply a rotation to the pin locations.\n",
    "alpha = np.pi/1100.0 \n",
    "rotClockwise = np.array([[np.cos(alpha), np.sin(alpha)], [-np.sin(alpha), np.cos(alpha)]])\n",
    "print('Rotating observed pin locations about z axis')\n",
    "\n",
    "# Variables with tildes are the rotated versions of the hats (observations)\n",
    "obsHat = np.vstack((xHat, yHat))\n",
    "obsTilde = np.dot(rotClockwise, obsHat)\n",
    "xTilde = obsTilde[0,:]\n",
    "yTilde = obsTilde[1,:]\n",
    "\n",
    "#plot_xy_err_2d(theta, xTilde-x, yTilde-y, xLabel='theta (nominal)')\n",
    "#plot_xy_err_2d(r, xTilde-x, yTilde-y, xLabel='r (nominal)')"
   ]
  },
  {
   "cell_type": "markdown",
   "metadata": {},
   "source": [
    "## Dependence upon $r$"
   ]
  },
  {
   "cell_type": "code",
   "execution_count": 38,
   "metadata": {
    "collapsed": false
   },
   "outputs": [
    {
     "name": "stdout",
     "output_type": "stream",
     "text": [
      "(50, 1) 0.0 1.0\n",
      "(50,) -1.90011435861 2.29056103612\n"
     ]
    },
    {
     "data": {
      "text/plain": [
       "{'dataplot': {'dataplot': [<matplotlib.lines.Line2D at 0x10f063d10>]},\n",
       " 'gpplot': [[<matplotlib.lines.Line2D at 0x10efbe410>],\n",
       "  [<matplotlib.patches.Polygon at 0x10c27de90>],\n",
       "  [<matplotlib.lines.Line2D at 0x10efbec90>],\n",
       "  [<matplotlib.lines.Line2D at 0x10f063190>]]}"
      ]
     },
     "execution_count": 38,
     "metadata": {},
     "output_type": "execute_result"
    },
    {
     "data": {
      "image/png": "[encoded data removed]",
      "text/plain": [
       "<matplotlib.figure.Figure at 0x10d34bd50>"
      ]
     },
     "metadata": {},
     "output_type": "display_data"
    }
   ],
   "source": [
    "# X := GP input domain\n",
    "X = scale_input(r);   # map r to [0,1]\n",
    "print X.shape, np.min(X), np.max(X)\n",
    "\n",
    "# obs := response variable\n",
    "obs, mu, sigma = normalize_obs(xTilde - x)    \n",
    "print obs.shape, np.min(obs), np.max(obs)\n",
    "\n",
    "# For now, we use a generic kernel.\n",
    "# TODO: cross-validation to select kernel.\n",
    "ker = GPy.kern.Matern52(X.shape[1], ARD=True, lengthscale=.1)\n",
    "model = GPy.models.GPRegression(X, vec_to_mat(obs), ker)\n",
    "model.optimize(messages=True, max_f_eval=1000)\n",
    "\n",
    "model.plot()\n"
   ]
  },
  {
   "cell_type": "markdown",
   "metadata": {},
   "source": [
    "## Dependence on $\\theta$"
   ]
  },
  {
   "cell_type": "code",
   "execution_count": 37,
   "metadata": {
    "collapsed": false
   },
   "outputs": [
    {
     "name": "stdout",
     "output_type": "stream",
     "text": [
      "(50, 1) 0.0 1.0\n",
      "(50,) -1.90011435861 2.29056103612\n"
     ]
    },
    {
     "data": {
      "text/plain": [
       "{'dataplot': {'dataplot': [<matplotlib.lines.Line2D at 0x10d328690>]},\n",
       " 'gpplot': [[<matplotlib.lines.Line2D at 0x10eaeb310>],\n",
       "  [<matplotlib.patches.Polygon at 0x10d30df50>],\n",
       "  [<matplotlib.lines.Line2D at 0x10d31a610>],\n",
       "  [<matplotlib.lines.Line2D at 0x10d31aad0>]]}"
      ]
     },
     "execution_count": 37,
     "metadata": {},
     "output_type": "execute_result"
    },
    {
     "data": {
      "image/png": "[encoded data removed]",
      "text/plain": [
       "<matplotlib.figure.Figure at 0x10eb70050>"
      ]
     },
     "metadata": {},
     "output_type": "display_data"
    }
   ],
   "source": [
    "# X := GP input domain\n",
    "X = scale_input(theta);   # map r to [0,1]\n",
    "print X.shape, np.min(X), np.max(X)\n",
    "\n",
    "# obs := response variable\n",
    "obs, mu, sigma = normalize_obs(xTilde - x)    \n",
    "print obs.shape, np.min(obs), np.max(obs)\n",
    "\n",
    "# For now, we use a generic kernel.\n",
    "# TODO: cross-validation to select kernel.\n",
    "ker = GPy.kern.Matern52(X.shape[1], ARD=True, lengthscale=.1)\n",
    "model = GPy.models.GPRegression(X, vec_to_mat(obs), ker)\n",
    "model.optimize(messages=True, max_f_eval=1000)\n",
    "\n",
    "model.plot()"
   ]
  }
 ],
 "metadata": {
  "kernelspec": {
   "display_name": "Python 2",
   "language": "python",
   "name": "python2"
  },
  "language_info": {
   "codemirror_mode": {
    "name": "ipython",
    "version": 2
   },
   "file_extension": ".py",
   "mimetype": "text/x-python",
   "name": "python",
   "nbconvert_exporter": "python",
   "pygments_lexer": "ipython2",
   "version": "2.7.11"
  }
 },
 "nbformat": 4,
 "nbformat_minor": 0
}
